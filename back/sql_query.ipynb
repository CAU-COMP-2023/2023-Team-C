{
 "cells": [
  {
   "cell_type": "markdown",
   "metadata": {},
   "source": [
    "# SQL query 생성 코드\n",
    "\n",
    "엑셀 파일을 불러온 후, 자동으로 SQL 쿼리로 변환해주는 코드입니다."
   ]
  },
  {
   "cell_type": "code",
   "execution_count": 1,
   "metadata": {},
   "outputs": [],
   "source": [
    "import pandas as pd\n",
    "\n",
    "# 데이터 불러오기\n",
    "pd.set_option(\"display.precision\", 17)\n",
    "df = pd.read_excel('../refined_small.xlsx')"
   ]
  },
  {
   "cell_type": "code",
   "execution_count": 2,
   "metadata": {},
   "outputs": [],
   "source": [
    "# 값 수정 및 컬럼명 수정\n",
    "df['혼밥가능?'] = df['추천인원수'].apply(lambda x: '1' in str(x))\n",
    "df['단체가능?'] = None # 이거 어떡하지?\n",
    "\n",
    "df = df[['식당이름(PK)', '대표메뉴', '혼밥가능?', '단체가능?', '카테고리', '거리(km)', '전화번호', '주소', '위도', '경도', '영업시작시간', '영업종료시간', '브레이크시작', '브레이크종료']]\n",
    "df.rename(columns={\n",
    "    '식당이름(PK)': 'name',\n",
    "    '대표메뉴': 'signature',\n",
    "    '혼밥가능?': 'allowOne',\n",
    "    '단체가능?': 'allowMulti',\n",
    "    '카테고리': 'category',\n",
    "    '거리(km)': 'distance',\n",
    "    '전화번호': 'phone',\n",
    "    '주소': 'address',\n",
    "    '위도': 'latitude',\n",
    "    '경도': 'longitude',\n",
    "    '영업시작시간': 'openTime',\n",
    "    '영업종료시간': 'closeTime',\n",
    "    '브레이크시작': 'breakStart',\n",
    "    '브레이크종료': 'breakEnd'\n",
    "}, inplace=True)"
   ]
  },
  {
   "cell_type": "code",
   "execution_count": 3,
   "metadata": {},
   "outputs": [
    {
     "name": "stdout",
     "output_type": "stream",
     "text": [
      "INSERT INTO [dbo].[Restaurants] VALUES\n",
      "(N'슬로우캘리', N'클래식 연어 포케', 1, NULL, N'기타', 0.698, '0507-1303-6514', N'흑석로 114 1층', 37.5084628543374, 126.961491968921,'11:00:00', '20:30:00', '15:00:00', '17:00:00'),\n",
      "(N'신룽푸마라탕', N'마라탕', 1, NULL, N'중식', 0.391, '02-3280-8253', N'흑석로 81 2층', 37.5070308609377, 126.958592134362,'11:30:00', '21:20:00', NULL, NULL),\n",
      "(N'평강삼계탕', N'삼계탕', 1, NULL, N'한식', nan, '02-824-3339', N'서달로 166', 37.507779536205, 126.962935046365,NULL, NULL, NULL, NULL),\n",
      "(N'포마토김밥', N'분식', 1, NULL, N'분식', nan, '02-815-8245', N'흑석로 90', 37.5071310733009, 126.959642824232,'08:00:00', '04:30:00', NULL, NULL),\n",
      "(N'포항물회', N'회', 1, NULL, N'기타', nan, '02824-8934', N'서달로14가길 19', 37.5070771007596, 126.962876726084,NULL, NULL, NULL, NULL),\n",
      "(N'프라이밋스테이크하우스', N'스테이크', 0, NULL, N'양식', nan, '0507-1336-6446', N'상도로37길 42 1층', 37.5000208599411, 126.951029769397,'12:00:00', '22:00:00', '15:00:00', '17:00:00'),\n",
      "(N'피자보이시나', N'피자', 0, NULL, N'양식', nan, '0507-1331-6564', N'흑석로9길 6', 37.5076913761508, 126.95983928611,'12:00:00', '21:00:00', NULL, NULL),\n",
      "(N'하꼬멘', N'라멘', 1, NULL, N'일식', nan, '02-812-0455', N'흑석로9길 15', 37.5076516122893, 126.959232627215,'10:00:00', '20:00:00', NULL, NULL),\n",
      "(N'하노이별', N'쌀국수', 1, NULL, N'기타', nan, '02-3280-7470', N'흑석로 81-5', 37.507128307303, 126.958514514926,'10:30:00', '21:30:00', NULL, NULL),\n",
      "(N'학교종이땡땡땡', N'분식', 1, NULL, N'분식', nan, '02-825-8384', N'흑석로13마길 65-9', 37.5075666642817, 126.959155374844,NULL, NULL, NULL, NULL),\n",
      "(N'한상도', N'한식', 1, NULL, N'한식', nan, '0507-1399-0931', N'상도로 296', 37.5011794464456, 126.949012623918,'11:30:00', '21:30:00', '15:00:00', '17:00:00'),\n",
      "(N'한쿡', N'순대국', 1, NULL, N'한식', nan, '02-6166-7979', N'흑석로 102', 37.5066942449346, 126.960728470594,NULL, NULL, NULL, NULL),\n",
      "(N'항아리된장족발', N'족발보쌈', 1, NULL, N'한식', nan, '02-822-2588', N'흑석로9길 13', 37.5076324038792, 126.959377893843,'10:30:00', '23:00:00', NULL, NULL),\n",
      "(N'핵밥', N'덮밥', 1, NULL, N'기타', nan, '0507-1350-2342', N'흑석로 91 2층', 37.5075194597119, 126.95972492785,'10:30:00', '21:00:00', NULL, NULL),\n",
      "(N'행복은간장밥', N'간장밥', 1, NULL, N'한식', nan, '0507-1428-0457', N'흑석로9길6', 37.5076919671644, 126.959839318125,'11:00:00', '21:00:00', NULL, NULL),\n",
      "(N'호랑이초밥', N'초밥', 1, NULL, N'일식', nan, '070-4289-2772', N'상도로 248 1층 101호', 37.5047366353301, 126.945972920833,'11:30:00', '22:00:00', '15:00:00', '17:00:00'),\n",
      "(N'홍당무분식', N'분식', 1, NULL, N'분식', nan, '02-815-0701', N'흑석로 84 중앙대학교 102관 B1', 37.5064135038803, 126.958788997767,'08:00:00', '20:00:00', NULL, NULL),\n",
      "(N'홍천닭갈비', N'닭갈비', 0, NULL, N'한식', nan, '02-817-8637', N'흑석로 95-1', 37.5075752710338, 126.960219708619,NULL, NULL, NULL, NULL),\n",
      "(N'홍콩반점0410', N'중식', 1, NULL, N'중식', nan, '0507-1309-0417', N'흑석로 101-3 2층', 37.5078311588317, 126.960671324818,'10:30:00', '21:00:00', NULL, NULL),\n",
      "(N'황토정', N'한식', 0, NULL, N'한식', nan, '02-814-4467', N'서달로13길 5-23', 37.5076659400105, 126.96185039781,'11:00:00', '22:00:00', '15:30:00', '17:00:00'),\n",
      "(N'훗스테이크', N'스테이크', 1, NULL, N'양식', nan, '02-815-7979', N'흑석로 19', 37.5048157868729, 126.953231223532,'11:00:00', '22:00:00', NULL, NULL),\n",
      "(N'흑석호치민', N'쌀국수', 1, NULL, N'기타', nan, '0507-1349-0780', N'서달로15길 20-5', 37.5087925038627, 126.962179997811,'11:30:00', '22:00:00', '15:00:00', '17:00:00'),\n",
      "(N'흑수돈', N'돈가스', 1, NULL, N'양식', nan, '02-826-7278', N'서달로14나길 27', 37.5069193042768, 126.963130716922,'10:30:00', '20:00:00', NULL, NULL),\n"
     ]
    }
   ],
   "source": [
    "# 쿼리 제작\n",
    "print('INSERT INTO [dbo].[Restaurants] VALUES')\n",
    "for _, *i in df.itertuples():\n",
    "    name, signature, allowOne, _, category, distance, phone, address, latitude, longitude, openTime, closeTime, breakStart, breakEnd = i\n",
    "    print(f\"(N'{name}', N'{signature}', {1 if allowOne else 0}, NULL, N'{category}', {distance}, '{phone}', N'{address}', {latitude}, {longitude},\", end='')\n",
    "    if isinstance(openTime, float) or isinstance(closeTime, float): # nan\n",
    "        print('NULL, NULL, ', end='')\n",
    "    else:\n",
    "        print(f\"'{openTime}', '{closeTime}', \", end='')\n",
    "    if isinstance(breakStart, float) or isinstance(breakEnd, float): # nan\n",
    "        print('NULL, NULL),')\n",
    "    else:\n",
    "        print(f\"'{breakStart}', '{breakEnd}'),\")"
   ]
  },
  {
   "cell_type": "code",
   "execution_count": null,
   "metadata": {},
   "outputs": [],
   "source": []
  }
 ],
 "metadata": {
  "kernelspec": {
   "display_name": "base",
   "language": "python",
   "name": "python3"
  },
  "language_info": {
   "codemirror_mode": {
    "name": "ipython",
    "version": 3
   },
   "file_extension": ".py",
   "mimetype": "text/x-python",
   "name": "python",
   "nbconvert_exporter": "python",
   "pygments_lexer": "ipython3",
   "version": "3.10.9"
  }
 },
 "nbformat": 4,
 "nbformat_minor": 2
}
